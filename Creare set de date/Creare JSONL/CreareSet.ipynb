{
 "cells": [
  {
   "cell_type": "code",
   "execution_count": null,
   "id": "170dd27c",
   "metadata": {},
   "outputs": [
    {
     "name": "stdout",
     "output_type": "stream",
     "text": [
      "✅ Fișierele au fost salvate cu succes.\n"
     ]
    }
   ],
   "source": [
    "import pandas as pd\n",
    "import json\n",
    "from sklearn.model_selection import train_test_split\n",
    "\n",
    "csv_path = \"exercitii_extrase_structurat_rezolvari.csv\"\n",
    "df = pd.read_csv(csv_path)\n",
    "\n",
    "# Pastreaz doar r0andurile care au o solutie\n",
    "df = df[df[\"solutie\"].notna() & (df[\"solutie\"].str.strip() != \"\")]\n",
    "\n",
    "# Prompt user (ID + cerință + variante a–f)\n",
    "def build_prompt(row):\n",
    "    question = f\"{row['id']}. {row['intrebare']}\\n\"\n",
    "    choices = [\n",
    "        f\"{opt}) {str(row[opt]).strip()}\"\n",
    "        for opt in ['a', 'b', 'c', 'd', 'e', 'f']\n",
    "        if pd.notna(row[opt]) and str(row[opt]).strip() != \"\"\n",
    "    ]\n",
    "    return question + \"\\n \" + \";\\n \".join(choices)\n",
    "\n",
    "# Prompt asistent\n",
    "def build_assistant_response(row):\n",
    "    parts = [f\"Răspuns corect: {row['raspuns_corect']}\"]\n",
    "    if pd.notna(row[\"indicatii\"]) and row[\"indicatii\"].strip() != \"\":\n",
    "        parts.append(f\"Indicații: {row['indicatii'].strip()}\")\n",
    "    if pd.notna(row[\"solutie\"]) and row[\"solutie\"].strip() != \"\":\n",
    "        parts.append(f\"Soluție: {row['solutie'].strip()}\")\n",
    "    return \"\\n \".join(parts)\n",
    "\n",
    "# Structura completa pentru fine-tuning\n",
    "def build_message(row):\n",
    "    return {\n",
    "        \"messages\": [\n",
    "            {\n",
    "                \"role\": \"system\",\n",
    "                \"content\": \"Ești un asistent care rezolvă exerciții de matematică pentru admitere și oferă explicații clare.\"\n",
    "            },\n",
    "            {\n",
    "                \"role\": \"user\",\n",
    "                \"content\": build_prompt(row)\n",
    "            },\n",
    "            {\n",
    "                \"role\": \"assistant\",\n",
    "                \"content\": build_assistant_response(row)\n",
    "            }\n",
    "        ]\n",
    "    }\n",
    "\n",
    "# Construieste datele si imparte in train/test\n",
    "data = [build_message(row) for _, row in df.iterrows()]\n",
    "train_data, test_data = train_test_split(data, test_size=0.2, random_state=42)\n",
    "\n",
    "# Salveaza in format JSONL\n",
    "def save_jsonl(data, filename):\n",
    "    with open(filename, \"w\", encoding=\"utf-8\") as f:\n",
    "        for item in data:\n",
    "            json.dump(item, f, ensure_ascii=False)\n",
    "            f.write(\"\\n\")\n",
    "\n",
    "save_jsonl(train_data, \"fine_tune_train.jsonl\")\n",
    "save_jsonl(test_data, \"fine_tune_test.jsonl\")\n",
    "\n",
    "print(\"Fișierele au fost salvate cu succes.\")"
   ]
  }
 ],
 "metadata": {
  "kernelspec": {
   "display_name": "Python 3 (ipykernel)",
   "language": "python",
   "name": "python3"
  },
  "language_info": {
   "codemirror_mode": {
    "name": "ipython",
    "version": 3
   },
   "file_extension": ".py",
   "mimetype": "text/x-python",
   "name": "python",
   "nbconvert_exporter": "python",
   "pygments_lexer": "ipython3",
   "version": "3.11.5"
  }
 },
 "nbformat": 4,
 "nbformat_minor": 5
}
