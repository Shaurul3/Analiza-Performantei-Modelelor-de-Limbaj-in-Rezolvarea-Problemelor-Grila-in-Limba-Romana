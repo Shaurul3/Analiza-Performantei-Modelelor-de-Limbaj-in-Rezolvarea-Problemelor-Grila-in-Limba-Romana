{
 "cells": [
  {
   "cell_type": "code",
   "execution_count": null,
   "id": "1cc88169",
   "metadata": {},
   "outputs": [
    {
     "name": "stdout",
     "output_type": "stream",
     "text": [
      "Salvat: exercitii_capitol_Algebră.csv (524 exerciții)\n",
      "Salvat: exercitii_capitol_Analiză matematică.csv (531 exerciții)\n"
     ]
    }
   ],
   "source": [
    "import pandas as pd\n",
    "\n",
    "df = pd.read_csv(\"exercitii_extrase_structurat_rezolvari.csv\", encoding=\"utf-8\")\n",
    "\n",
    "for level in ['Algebră', 'Analiză matematică',]:\n",
    "    filtered = df[df['capitol'] == level]\n",
    "    output_filename = f\"exercitii_capitol_{level}.csv\"\n",
    "    filtered.to_csv(output_filename, index=False, encoding=\"utf-8-sig\")\n",
    "    print(f\"Salvat: {output_filename} ({len(filtered)} exerciții)\")"
   ]
  },
  {
   "cell_type": "code",
   "execution_count": null,
   "id": "1338cf61",
   "metadata": {},
   "outputs": [],
   "source": []
  }
 ],
 "metadata": {
  "kernelspec": {
   "display_name": "Python 3 (ipykernel)",
   "language": "python",
   "name": "python3"
  },
  "language_info": {
   "codemirror_mode": {
    "name": "ipython",
    "version": 3
   },
   "file_extension": ".py",
   "mimetype": "text/x-python",
   "name": "python",
   "nbconvert_exporter": "python",
   "pygments_lexer": "ipython3",
   "version": "3.11.5"
  }
 },
 "nbformat": 4,
 "nbformat_minor": 5
}
